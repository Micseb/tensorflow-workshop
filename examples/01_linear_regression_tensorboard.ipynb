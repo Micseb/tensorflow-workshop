{
 "cells": [
  {
   "cell_type": "markdown",
   "metadata": {},
   "source": [
    "This notebook demonstrates linear regression in TensorFlow, and visualizes the graph and summary data for the variables in TensorBoard. Uncomment code where instructed to learn more as you go along."
   ]
  },
  {
   "cell_type": "code",
   "execution_count": 27,
   "metadata": {},
   "outputs": [],
   "source": [
    "# The next three imports help with compatability between\n",
    "# Python 2 and 3\n",
    "from __future__ import absolute_import\n",
    "from __future__ import division\n",
    "from __future__ import print_function\n",
    "\n",
    "import os\n",
    "\n",
    "import numpy as np\n",
    "import matplotlib\n",
    "#matplotlib.use(\"TkAgg\")\n",
    "import matplotlib.pyplot as plt\n",
    "import pylab\n",
    "import tensorflow as tf\n",
    "\n",
    "# A special command for IPython Notebooks that\n",
    "# intructs Matplotlib to display plots in the notebook\n",
    "%matplotlib inline"
   ]
  },
  {
   "cell_type": "code",
   "execution_count": 2,
   "metadata": {
    "collapsed": true
   },
   "outputs": [],
   "source": [
    "# This is a directory we'll use to store information\n",
    "# about the graph to later visualize in TensorBoard.\n",
    "# By default, it will be created in the same directory\n",
    "# as this notebook. \n",
    "\n",
    "# Be sure to delete the contents of this directory before\n",
    "# running the script.\n",
    "LOGDIR = './graphs'"
   ]
  },
  {
   "cell_type": "code",
   "execution_count": 3,
   "metadata": {
    "collapsed": true
   },
   "outputs": [],
   "source": [
    "tf.reset_default_graph()\n",
    "sess = tf.Session()"
   ]
  },
  {
   "cell_type": "markdown",
   "metadata": {},
   "source": [
    "This function will create a noisy dataset that's roughly linear, according to the equation *y = mx + b + noise*"
   ]
  },
  {
   "cell_type": "code",
   "execution_count": 8,
   "metadata": {},
   "outputs": [
    {
     "name": "stdout",
     "output_type": "stream",
     "text": [
      "[ 0.20105824  0.36093488  0.37173751  0.99899441  0.76580709  0.06590559\n",
      "  0.91674173  0.73845237  0.59723687  0.45618075  0.98616052  0.70270824\n",
      "  0.44677451  0.65376079  0.42548749  0.78119832  0.7467249   0.08561523\n",
      "  0.96530348  0.75083464  0.48616114  0.53470123  0.20667565  0.08705925\n",
      "  0.71548951  0.65780669  0.80295151  0.0401969   0.12997456  0.11748432\n",
      "  0.04576002  0.26192048  0.24519657  0.28707778  0.02196128  0.16620114\n",
      "  0.16401157  0.33537558  0.01565226  0.36213955  0.52466363  0.36356845\n",
      "  0.96804547  0.94824117  0.32603976  0.79913241  0.82293022  0.48132673\n",
      "  0.30125749  0.93463969  0.71196926  0.12654604  0.65478539  0.50209367\n",
      "  0.06282415  0.69237459  0.8042981   0.49647492  0.74016142  0.72098368\n",
      "  0.72263926  0.38327625  0.04468841  0.63868147  0.56022501  0.90994048\n",
      "  0.9925558   0.65703195  0.72084576  0.77849615  0.59467399  0.85875595\n",
      "  0.88490295  0.79970002  0.40877029  0.45610073  0.28395346  0.06268512\n",
      "  0.84172904  0.30095756  0.59064263  0.40640408  0.03320932  0.81740552\n",
      "  0.71775943  0.95787144  0.36187771  0.29655719  0.37534359  0.27941528\n",
      "  0.70593196  0.71277839  0.34454811  0.72024685  0.56399041  0.43185431\n",
      "  0.26376206  0.0310383   0.83454657  0.48721734]\n"
     ]
    }
   ],
   "source": [
    "def make_noisy_data(m=0.1, b=0.3, n=100):\n",
    "    x = np.random.rand(n).astype(np.float32)\n",
    "    noise = np.random.normal(scale=0.01, size=len(x))\n",
    "    y = m * x + b + noise\n",
    "    return x, y\n",
    "\n",
    "mx, my = make_noisy_data()\n",
    "print (mx)\n",
    "\n"
   ]
  },
  {
   "cell_type": "markdown",
   "metadata": {},
   "source": [
    "Step 1) Create training and testing data."
   ]
  },
  {
   "cell_type": "code",
   "execution_count": 20,
   "metadata": {
    "collapsed": true
   },
   "outputs": [],
   "source": [
    "x_train, y_train  = make_noisy_data()"
   ]
  },
  {
   "cell_type": "markdown",
   "metadata": {},
   "source": [
    "Plot our training and testing data "
   ]
  },
  {
   "cell_type": "code",
   "execution_count": 21,
   "metadata": {},
   "outputs": [
    {
     "data": {
      "text/plain": [
       "[<matplotlib.lines.Line2D at 0x11b98ad10>]"
      ]
     },
     "execution_count": 21,
     "metadata": {},
     "output_type": "execute_result"
    },
    {
     "data": {
      "image/png": "[encoded data removed]",
      "text/plain": [
       "<matplotlib.figure.Figure at 0x11b78a290>"
      ]
     },
     "metadata": {},
     "output_type": "display_data"
    }
   ],
   "source": [
    "# Uncomment the following lines to plot the data.\n",
    "pylab.plot(x_train, y_train, 'b.')"
   ]
  },
  {
   "cell_type": "markdown",
   "metadata": {},
   "source": [
    "Step 2) Define placeholders for data we'll later input to the graph."
   ]
  },
  {
   "cell_type": "code",
   "execution_count": 11,
   "metadata": {
    "collapsed": true
   },
   "outputs": [],
   "source": [
    "# tf.name_scope is used to make a graph legible in the TensorBoard graph explorer\n",
    "# shape=[None] means x_placeholder is a one dimensional array of any length. \n",
    "# name='x' gives TensorBoard a display name for this node.\n",
    "with tf.name_scope('input'):\n",
    "    x_placeholder = tf.placeholder(shape=[None], dtype=tf.float32, name='x-input')\n",
    "    y_placeholder = tf.placeholder(shape=[None], dtype=tf.float32, name='y-input')"
   ]
  },
  {
   "cell_type": "code",
   "execution_count": 12,
   "metadata": {},
   "outputs": [
    {
     "name": "stdout",
     "output_type": "stream",
     "text": [
      "Tensor(\"input/x-input:0\", shape=(?,), dtype=float32)\n",
      "Tensor(\"input/y-input:0\", shape=(?,), dtype=float32)\n"
     ]
    }
   ],
   "source": [
    "# Uncomment the following lines to see what x_placeholder and y_placeholder are.\n",
    "print(x_placeholder)\n",
    "print(y_placeholder)"
   ]
  },
  {
   "cell_type": "markdown",
   "metadata": {},
   "source": [
    "Step 3) Define our model.\n",
    "\n",
    "Here, we'll use a linear model: *y = mx + b*"
   ]
  },
  {
   "cell_type": "code",
   "execution_count": 13,
   "metadata": {
    "collapsed": true
   },
   "outputs": [],
   "source": [
    "with tf.name_scope('model'):\n",
    "    m = tf.Variable(tf.random_normal([1]), name='m')\n",
    "    b = tf.Variable(tf.random_normal([1]), name='b')\n",
    "    # This is the same as y = tf.add(tf.mul(m, x_placeholder), b), but looks nicer\n",
    "    y = m * x_placeholder + b"
   ]
  },
  {
   "cell_type": "code",
   "execution_count": null,
   "metadata": {
    "collapsed": true
   },
   "outputs": [],
   "source": [
    "# Uncomment the following lines to see what m, b, and y are\n",
    "# print(m)\n",
    "# print(b)\n",
    "# print(y)"
   ]
  },
  {
   "cell_type": "markdown",
   "metadata": {},
   "source": [
    "Step 4) Define a loss function (here, squared error) and an optimizer (here, gradient descent)."
   ]
  },
  {
   "cell_type": "code",
   "execution_count": 14,
   "metadata": {
    "collapsed": true
   },
   "outputs": [],
   "source": [
    "LEARNING_RATE = 0.5\n",
    "\n",
    "with tf.name_scope('training'):\n",
    "    with tf.name_scope('loss'):\n",
    "        loss = tf.reduce_mean(tf.square(y - y_placeholder))\n",
    "    with tf.name_scope('optimizer'):\n",
    "        optimizer = tf.train.GradientDescentOptimizer(LEARNING_RATE)\n",
    "        train = optimizer.minimize(loss) "
   ]
  },
  {
   "cell_type": "code",
   "execution_count": null,
   "metadata": {
    "collapsed": true
   },
   "outputs": [],
   "source": [
    "# Uncomment the following 3 lines to see what 'loss', 'optimizer' and 'train' are.\n",
    "# print(\"loss:\", loss)\n",
    "# print(\"optimizer:\", optimizer)\n",
    "# print(\"train_step:\", train)"
   ]
  },
  {
   "cell_type": "markdown",
   "metadata": {},
   "source": [
    "Step 5) Set up TensorBoard"
   ]
  },
  {
   "cell_type": "code",
   "execution_count": 15,
   "metadata": {
    "collapsed": true
   },
   "outputs": [],
   "source": [
    "# Write the graph\n",
    "writer = tf.summary.FileWriter(LOGDIR)\n",
    "writer.add_graph(sess.graph)\n",
    "\n",
    "# Attach summaries to Tensors (for TensorBoard visualization)\n",
    "tf.summary.histogram('m', m)\n",
    "tf.summary.histogram('b', b)\n",
    "tf.summary.scalar('loss', loss)\n",
    "\n",
    "# This op will calculate our summary data when run\n",
    "summary_op = tf.summary.merge_all()"
   ]
  },
  {
   "cell_type": "markdown",
   "metadata": {},
   "source": [
    "Step 6) Initialize variables\n",
    "\n",
    "At this point, our graph is complete. We're now ready to initialize variables, then begin training."
   ]
  },
  {
   "cell_type": "code",
   "execution_count": 16,
   "metadata": {
    "collapsed": true
   },
   "outputs": [],
   "source": [
    "sess.run(tf.global_variables_initializer())"
   ]
  },
  {
   "cell_type": "markdown",
   "metadata": {},
   "source": [
    "Step 7) Training"
   ]
  },
  {
   "cell_type": "code",
   "execution_count": 17,
   "metadata": {},
   "outputs": [
    {
     "name": "stdout",
     "output_type": "stream",
     "text": [
      "0 [array([-0.40820199], dtype=float32), array([ 0.61875355], dtype=float32)]\n",
      "20 [array([-0.07571239], dtype=float32), array([ 0.39992392], dtype=float32)]\n",
      "40 [array([ 0.04278517], dtype=float32), array([ 0.3321203], dtype=float32)]\n",
      "60 [array([ 0.08350809], dtype=float32), array([ 0.30881888], dtype=float32)]\n",
      "80 [array([ 0.09750297], dtype=float32), array([ 0.30081108], dtype=float32)]\n",
      "100 [array([ 0.10231246], dtype=float32), array([ 0.29805914], dtype=float32)]\n",
      "120 [array([ 0.1039653], dtype=float32), array([ 0.29711339], dtype=float32)]\n",
      "140 [array([ 0.10453329], dtype=float32), array([ 0.29678836], dtype=float32)]\n",
      "160 [array([ 0.1047285], dtype=float32), array([ 0.2966767], dtype=float32)]\n",
      "180 [array([ 0.10479558], dtype=float32), array([ 0.29663828], dtype=float32)]\n",
      "200 [array([ 0.10481862], dtype=float32), array([ 0.29662511], dtype=float32)]\n"
     ]
    }
   ],
   "source": [
    "TRAIN_STEPS = 201\n",
    "\n",
    "for step in range(TRAIN_STEPS):\n",
    "    \n",
    "    # Session will run two ops:\n",
    "    # - summary_op prepares summary data we'll write to disk in a moment\n",
    "    # - train will use the optimizer to adjust our variables to reduce loss\n",
    "    summary_result, _ = sess.run([summary_op, train], \n",
    "                                  feed_dict={x_placeholder: x_train, \n",
    "                                             y_placeholder: y_train})\n",
    "    # write the summary data to disk\n",
    "    writer.add_summary(summary_result, step)\n",
    "    \n",
    "    # Uncomment the following two lines to watch training happen real time.\n",
    "    if step % 20 == 0:\n",
    "        print(step, sess.run([m, b]))\n",
    "    \n",
    "# close the writer when we're finished using it\n",
    "writer.close()"
   ]
  },
  {
   "cell_type": "markdown",
   "metadata": {},
   "source": [
    "Step 8) See the trained values for m and b"
   ]
  },
  {
   "cell_type": "code",
   "execution_count": 18,
   "metadata": {},
   "outputs": [
    {
     "name": "stdout",
     "output_type": "stream",
     "text": [
      "m: 0.104819, b: 0.296625\n"
     ]
    }
   ],
   "source": [
    "print (\"m: %f, b: %f\" % (sess.run(m), sess.run(b)))"
   ]
  },
  {
   "cell_type": "markdown",
   "metadata": {},
   "source": [
    "Step 9) Use the trained model to make a prediction"
   ]
  },
  {
   "cell_type": "code",
   "execution_count": 40,
   "metadata": {},
   "outputs": [],
   "source": [
    "# Use the trained model to make a prediction!\n",
    "# Remember that x_placeholder must be a vector, hence [2] not just 2.\n",
    "# We expect the result to be (about): 2 * 0.1 + 0.3 + noise ~= 0.5\n",
    "sess.run(y, feed_dict={x_placeholder: [2]})\n",
    "\n",
    "# Get the value of m and b\n",
    "mval, bval = sess.run([m, b])"
   ]
  },
  {
   "cell_type": "code",
   "execution_count": 43,
   "metadata": {},
   "outputs": [
    {
     "data": {
      "text/plain": [
       "[<matplotlib.lines.Line2D at 0x11bfbc1d0>]"
      ]
     },
     "execution_count": 43,
     "metadata": {},
     "output_type": "execute_result"
    },
    {
     "data": {
      "image/png": "[encoded data removed]",
      "text/plain": [
       "<matplotlib.figure.Figure at 0x11be83cd0>"
      ]
     },
     "metadata": {},
     "output_type": "display_data"
    }
   ],
   "source": [
    "plt.plot(x_train, y_train, 'b.')\n",
    "plt.plot(x_train, x_train*mval[0]+bval[0], 'r')"
   ]
  },
  {
   "cell_type": "markdown",
   "metadata": {},
   "source": [
    "Step 10) Start TensorBoard"
   ]
  },
  {
   "cell_type": "code",
   "execution_count": null,
   "metadata": {
    "collapsed": true
   },
   "outputs": [],
   "source": [
    "# To start TensorBoard, run this command from a terminal\n",
    "# Note: you should run this from the same directory that contains this notebook\n",
    "# or, provide absolute path to the 'graphs' directory\n",
    "# If you are runnining in a virtualenv, be sure to start it\n",
    "# if you open a new terminal window.\n",
    "\n",
    "# $ tensorboard --logdir=graphs --host=localhost\n",
    "\n",
    "# To open TensorBoard, point your browser to http://localhost:6006\n",
    "# Then, click on the tabs for 'scalars', 'distributions', 'histograms', and 'graphs'\n",
    "# to learn more.\n",
    "\n",
    "# If you run into trouble, delete LOGDIR (to clear information from previous runs),\n",
    "# then re-run this script, and restart TensorBoard."
   ]
  }
 ],
 "metadata": {
  "kernelspec": {
   "display_name": "Python 2",
   "language": "python",
   "name": "python2"
  },
  "language_info": {
   "codemirror_mode": {
    "name": "ipython",
    "version": 2
   },
   "file_extension": ".py",
   "mimetype": "text/x-python",
   "name": "python",
   "nbconvert_exporter": "python",
   "pygments_lexer": "ipython2",
   "version": "2.7.10"
  }
 },
 "nbformat": 4,
 "nbformat_minor": 2
}
